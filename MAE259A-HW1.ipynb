{
 "metadata": {
  "name": ""
 },
 "nbformat": 3,
 "nbformat_minor": 0,
 "worksheets": [
  {
   "cells": [
    {
     "cell_type": "code",
     "collapsed": false,
     "input": [
      "from IPython.core.display import HTML\n",
      "def css_styling():\n",
      "    styles = open(\"styles/custom.css\", \"r\").read()\n",
      "    return HTML(styles)\n",
      "css_styling()"
     ],
     "language": "python",
     "metadata": {},
     "outputs": [
      {
       "html": [
        "\n",
        "\n",
        "\n",
        "\n",
        "<style>\n",
        "    @import url(http://fonts.googleapis.com/css?family=Crimson+Text);\n",
        "    @font-face {\n",
        "\n",
        "        font-family: \"Computer Modern\";\n",
        "        src: url('http://mirrors.ctan.org/fonts/cm-unicode/fonts/otf/cmunss.otf');\n",
        "    }\n",
        "    div.cell{\n",
        "        width:800px;\n",
        "        margin-left:16% !important;\n",
        "        margin-right:auto;\n",
        "    }\n",
        "    \n",
        "    div.text_cell_render{\n",
        "        font-family: \"Crimson Text\", \"Helvetica Neue\", Arial, Helvetica, Geneva, sans-serif;\n",
        "        line-height: 135%;\n",
        "        font-size: 150%;\n",
        "        width:600px;\n",
        "        margin-left:auto;\n",
        "        margin-right:auto;\n",
        "    }\n",
        "    .CodeMirror{\n",
        "            font-family: \"Source Code Pro\", source-code-pro,Consolas, monospace;\n",
        "            font-size: 110%;\n",
        "    }\n",
        "/*    .prompt{\n",
        "        display: None;\n",
        "    }*/\n",
        "    .text_cell_render h5 {\n",
        "        font-weight: 300;\n",
        "        font-size: 16pt;\n",
        "        color: #4057A1;\n",
        "        font-style: italic;\n",
        "        margin-bottom: .5em;\n",
        "        margin-top: 0.5em;\n",
        "        display: block;\n",
        "    }\n",
        "    \n",
        "    .warning{\n",
        "        color: rgb( 240, 20, 20 )\n",
        "        }  \n",
        "</style>\n",
        "<script>\n",
        "    MathJax.Hub.Config({\n",
        "                        TeX: {\n",
        "                           extensions: [\"AMSmath.js\"]\n",
        "                           },\n",
        "                tex2jax: {\n",
        "                    inlineMath: [ ['$','$'], [\"\\\\(\",\"\\\\)\"] ],\n",
        "                    displayMath: [ ['$$','$$'], [\"\\\\[\",\"\\\\]\"] ]\n",
        "                },\n",
        "                displayAlign: 'center', // Change this to 'center' to center equations.\n",
        "                \"HTML-CSS\": {\n",
        "                    styles: {'.MathJax_Display': {\"margin\": 4}},\n",
        "                }\n",
        "        });\n",
        "</script>"
       ],
       "metadata": {},
       "output_type": "pyout",
       "prompt_number": 471,
       "text": [
        "<IPython.core.display.HTML at 0x148e6050>"
       ]
      }
     ],
     "prompt_number": 471
    },
    {
     "cell_type": "markdown",
     "metadata": {},
     "source": [
      "#Homework 1"
     ]
    },
    {
     "cell_type": "markdown",
     "metadata": {},
     "source": [
      "## Problem 1\n",
      "_Problem:_\n",
      "\n",
      "We consider the integral\n",
      "\n",
      "$$I = \\int_0^1\\!f(x)\\,\\mathrm{d}x$$\n",
      "\n",
      "where\n",
      "\n",
      "$$f(x) = \\cfrac{c_1}{\\sqrt{x+\\alpha_1}} + \\cfrac{c_2}{(x-\\alpha_2)^2+\\delta^2}-\\pi$$\n",
      "\n",
      "and the parameters are given by $c_1=1$, $c_2 = 100$, $\\alpha_1 = 0.01$, $\\alpha_2= 0.3$, and $\\delta^2 = 0.001$. The exact evaluation of the integral is\n",
      "\n",
      "$$I = 2c_1\\left(\\sqrt{1+\\alpha_1} - \\sqrt{\\alpha_1}\\right)+\\cfrac{c_2}{\\delta}\\left[\\tan^{-1}\\left(\\cfrac{\\alpha_2}{\\delta}\\right) - \\tan^{-1}\\left(\\cfrac{\\alpha_2 - 1}{\\delta}\\right)\\right] - \\pi $$"
     ]
    },
    {
     "cell_type": "markdown",
     "metadata": {},
     "source": [
      "### Part a\n",
      "\n",
      "We are to build a function to numerically integrate the given function -- with the trapezoidal rule and Simpson's rule. We do this by defining the integrand as a function then implementing the trapz and simps from scipy."
     ]
    },
    {
     "cell_type": "code",
     "collapsed": false,
     "input": [
      "from scipy import integrate\n",
      "def integrand(x):\n",
      "    c1 = 1.\n",
      "    c2 = 100.\n",
      "    alpha1 = 0.01\n",
      "    alpha2 = 0.3\n",
      "    delta2 = 0.001\n",
      "    return(c1/sqrt(x + alpha1) + c2/((x-alpha2)**2.+delta2) - pi)\n",
      "\n",
      "    \n",
      "def integration(lims, N, routine):\n",
      "    \n",
      "    x = linspace(lims[0], lims[1], N)\n",
      "    y = integrand(x)\n",
      "\n",
      "    if routine == 1:\n",
      "        return (integrate.trapz(y, x))\n",
      "    elif routine == 2:\n",
      "        return (integrate.simps(y, x))\n",
      "    else:\n",
      "        print \"Error on integration routine \"+\\\n",
      "                \"Choose 1 for trap, 2 for simpson\""
     ],
     "language": "python",
     "metadata": {},
     "outputs": [],
     "prompt_number": 1
    },
    {
     "cell_type": "markdown",
     "metadata": {},
     "source": [
      "To evaluate the integrations, we can calculate the exact solution."
     ]
    },
    {
     "cell_type": "code",
     "collapsed": false,
     "input": [
      "c1 = 1.\n",
      "c2 = 100.\n",
      "alpha1 = 0.01\n",
      "alpha2 = 0.3\n",
      "delta2 = 0.001\n",
      "\n",
      "f2 = 2*c1*(sqrt(1+alpha1)-sqrt(alpha1))+c2/sqrt(delta2)*\\\n",
      "     (arctan(alpha2/sqrt(delta2))-arctan((alpha2-1)/sqrt(delta2)))-pi"
     ],
     "language": "python",
     "metadata": {},
     "outputs": [],
     "prompt_number": 2
    },
    {
     "cell_type": "markdown",
     "metadata": {},
     "source": [
      "### Part b\n",
      "\n",
      "with the limits and integration steps of"
     ]
    },
    {
     "cell_type": "code",
     "collapsed": false,
     "input": [
      "lims = [0, 1]\n",
      "N = [16, 32, 64]"
     ],
     "language": "python",
     "metadata": {},
     "outputs": [],
     "prompt_number": 3
    },
    {
     "cell_type": "markdown",
     "metadata": {},
     "source": [
      "we can compare the numerical integration to the exact solution. First the trapezoidal rule:"
     ]
    },
    {
     "cell_type": "code",
     "collapsed": false,
     "input": [
      "routine = 1\n",
      "\n",
      "i = 0\n",
      "error = zeros(len(N))\n",
      "for n in N:\n",
      "    f = integration(lims, n, routine)\n",
      "    print f\n",
      "    error[i] = abs(f-f2)\n",
      "    i+=1\n",
      "print f2\n",
      "title(\"error using Trapezoidal rule on the given integrand\")\n",
      "xlabel(\"number of steps, N\")\n",
      "ylabel(\"error\")\n",
      "loglog(N,error)"
     ],
     "language": "python",
     "metadata": {},
     "outputs": [
      {
       "output_type": "stream",
       "stream": "stdout",
       "text": [
        "8495.53956555\n",
        "9444.69790977\n",
        "9458.29372453\n",
        "9458.38963719\n"
       ]
      },
      {
       "metadata": {},
       "output_type": "pyout",
       "prompt_number": 4,
       "text": [
        "[<matplotlib.lines.Line2D at 0x3006e90>]"
       ]
      },
      {
       "metadata": {},
       "output_type": "display_data",
       "png": "[encoded data removed]",
       "text": [
        "<matplotlib.figure.Figure at 0x2f7ec90>"
       ]
      }
     ],
     "prompt_number": 4
    },
    {
     "cell_type": "markdown",
     "metadata": {},
     "source": [
      "### Part c\n",
      "\n",
      "The same as Part b, now with Simpson's rule. We view the plot of error in Simpson's rule with the result from Part b overlaid."
     ]
    },
    {
     "cell_type": "code",
     "collapsed": false,
     "input": [
      "routine = 2\n",
      "\n",
      "i = 0\n",
      "error2 = zeros(len(N))\n",
      "for n in N:\n",
      "    f = integration(lims, n, routine)\n",
      "    error2[i] = abs(f-f2)\n",
      "    i+=1\n",
      "\n",
      "title(\"error using numerical integrations on the given integrand\")\n",
      "xlabel(\"number of steps, N\")\n",
      "ylabel(\"error\")\n",
      "loglog(N,error)\n",
      "loglog(N,error2)\n",
      "legend(['trap rule',\"simps' rule\"],1)\n"
     ],
     "language": "python",
     "metadata": {},
     "outputs": [
      {
       "metadata": {},
       "output_type": "pyout",
       "prompt_number": 5,
       "text": [
        "<matplotlib.legend.Legend at 0x32914d0>"
       ]
      },
      {
       "metadata": {},
       "output_type": "display_data",
       "png": "[encoded data removed]",
       "text": [
        "<matplotlib.figure.Figure at 0x3289b90>"
       ]
      }
     ],
     "prompt_number": 5
    },
    {
     "cell_type": "markdown",
     "metadata": {},
     "source": [
      "which shows that the errors are comparable for small numbers of steps but as the steps increase, Simpson's rule slowly becomes a more accurate method."
     ]
    },
    {
     "cell_type": "markdown",
     "metadata": {},
     "source": [
      "## Problem 2\n",
      "\n",
      "_Problem:_\n",
      "\n",
      "Linear systems of equations involving _tridiagonal matrices_ arise frequently in CFD. Here, we mean a system \n",
      "\n",
      "$$Ax=f$$\n",
      "\n",
      "where $A$ is an $M\\times M$ matrix. This is represented as $B(M;{\\bf a, b, c})$. Where $B$ means it is banded, the first argument is the size of the matrix, and the vector arguments of the three bands are given as the remaining arguments. This is a simple tridiagonal matrix.\n",
      "\n",
      "Another matrix that arises frequently, in periodic domains, is the _circulant_ matrix. This is one in which every row as the same entries and each row is shifted one element to the right from the one above it. The shorthand for this is $B_p(M;{\\bf a, b, c})$. Prof Eldredge has given us a circulant matrix solver, we are to create a tridiagonal matrix solver of the Thomas algorithm."
     ]
    },
    {
     "cell_type": "markdown",
     "metadata": {},
     "source": [
      "I had trouble implementing the Thomas algorithm as given in the assignment notes. While trying to debug what should have been a simple implementation, I used a different format of the algorithm from one of my old text books. Finally I discovered the only error was coming from my inputs to the solver being Python _integers_ that were then forcing the _int_ type onto the solution and giving me bogus values. In the end, I left my solver in this alternate syntax for the Thomas algorithm."
     ]
    },
    {
     "cell_type": "code",
     "collapsed": false,
     "input": [
      "def trisolve(a, b, c, f, solveType):\n",
      "    M = len(f);\n",
      "    if solveType == 'circ':\n",
      "        if isscalar(a) == True and isscalar(b) == True and isscalar(c) == True:\n",
      "            m = arange(0,M)\n",
      "            lam = b + (a+c)*cos(2*pi*m/M) - i*(a-c)*sin(2*pi*m/M);\n",
      "            fhat = fft.fft((f))/M\n",
      "            xhat = fhat/lam \n",
      "            x = real(M*fft.ifft(xhat))\n",
      "            return x\n",
      "        else:\n",
      "            print \"Error: circulant matrix solver requires scalar inputs\"\n",
      "    elif solveType == 'reg':\n",
      "        if isscalar(a) == True:\n",
      "            a = ones(M)*a\n",
      "        if isscalar(b) == True:\n",
      "            b = ones(M)*b\n",
      "        if isscalar(c) == True:\n",
      "            c = ones(M)*c\n",
      "        x = zeros(M)\n",
      "        for j in arange(1,M):\n",
      "            gamma = a[j]/b[j-1]\n",
      "            b[j] = b[j]-gamma*c[j-1]\n",
      "            f[j] = f[j]-gamma*f[j-1]\n",
      "        x[-1] = f[-1]/b[-1]\n",
      "        for j in arange(M-2,-1,-1):\n",
      "            x[j]=(f[j]-c[j]*x[j+1])/b[j]\n",
      "        return x"
     ],
     "language": "python",
     "metadata": {},
     "outputs": [],
     "prompt_number": 10
    },
    {
     "cell_type": "markdown",
     "metadata": {},
     "source": [
      "To test the code, Prof. Eldredge recommended we test against a RHS array of\n",
      "\n",
      "$$f_j = 6\\sin\\left(\\cfrac{P\\pi j}{M + 1}\\right)$$\n",
      "\n",
      "where P is an integer, and we set a = 1, b = 4 and c = 1. M is the length of the array.\n",
      "\n",
      "In such a case, the solution should approach\n",
      "\n",
      "$$x_j = \\sin\\left(\\cfrac{P\\pi j}{M + 1}\\right)$$\n",
      "\n",
      "as $M\\rightarrow\\infty$.\n",
      "\n",
      "I'll use this input to my 'regular matrix' solver for a large $M$ and then plot against the solution."
     ]
    },
    {
     "cell_type": "code",
     "collapsed": false,
     "input": [
      "M = 1000\n",
      "f = zeros(M)\n",
      "y = zeros(M)\n",
      "P = 1.\n",
      "\n",
      "for x in arange(0,M):\n",
      "    f[x] = 6.*sin(P*pi*x/(M+1.))\n",
      "    y[x] = sin(P*pi*x/(M+1.))\n",
      "a = ones(M)\n",
      "b = ones(M)*4.\n",
      "c = ones(M)\n",
      "\n",
      "import cProfile, pstats, StringIO\n",
      "pr = cProfile.Profile()\n",
      "pr.enable()\n",
      "\n",
      "x = trisolve(a, b, c, f, 'reg')\n",
      "\n",
      "pr.disable()\n",
      "s = StringIO.StringIO()\n",
      "sortby = 'cumulative'\n",
      "ps = pstats.Stats(pr, stream=s).sort_stats(sortby)\n",
      "ps.print_stats()\n",
      "\n",
      "plot(x,'bo')\n",
      "plot(y,'r')\n",
      "xlabel('N')\n",
      "ylabel('x')\n",
      "legend(['Tridiag solver','Analytic Solution'],4)"
     ],
     "language": "python",
     "metadata": {},
     "outputs": [
      {
       "metadata": {},
       "output_type": "pyout",
       "prompt_number": 11,
       "text": [
        "<matplotlib.legend.Legend at 0x401b0d0>"
       ]
      },
      {
       "metadata": {},
       "output_type": "display_data",
       "png": "[encoded data removed]",
       "text": [
        "<matplotlib.figure.Figure at 0x3714f50>"
       ]
      }
     ],
     "prompt_number": 11
    },
    {
     "cell_type": "markdown",
     "metadata": {},
     "source": [
      "Which shows that the implementation is now correct for the tridiagonal solver."
     ]
    },
    {
     "cell_type": "markdown",
     "metadata": {},
     "source": [
      "#### Results of the performance of the tridiagonal solver\n",
      "\n",
      "While running the tridiagonal solver on that verification test, I ran some of Python's profilers to check where time is being spent with the code. The results are here."
     ]
    },
    {
     "cell_type": "code",
     "collapsed": false,
     "input": [
      "print s.getvalue()"
     ],
     "language": "python",
     "metadata": {},
     "outputs": [
      {
       "output_type": "stream",
       "stream": "stdout",
       "text": [
        "         28 function calls in 0.010 seconds\n",
        "\n",
        "   Ordered by: cumulative time\n",
        "\n",
        "   ncalls  tottime  percall  cumtime  percall filename:lineno(function)\n",
        "        2    0.000    0.000    0.010    0.005 /usr/local/lib/python2.7/dist-packages/IPython/core/interactiveshell.py:2798(run_code)\n",
        "        1    0.000    0.000    0.010    0.010 <ipython-input-462-4a845d373a59>:17(<module>)\n",
        "        1    0.010    0.010    0.010    0.010 <ipython-input-436-4e3fe344877f>:1(trisolve)\n",
        "        2    0.000    0.000    0.000    0.000 /usr/lib/python2.7/codeop.py:132(__call__)\n",
        "        2    0.000    0.000    0.000    0.000 {compile}\n",
        "        2    0.000    0.000    0.000    0.000 {numpy.core.multiarray.arange}\n",
        "        3    0.000    0.000    0.000    0.000 /usr/lib/python2.7/dist-packages/numpy/core/numeric.py:1574(isscalar)\n",
        "        1    0.000    0.000    0.000    0.000 {numpy.core.multiarray.zeros}\n",
        "        1    0.000    0.000    0.000    0.000 <ipython-input-462-4a845d373a59>:19(<module>)\n",
        "        2    0.000    0.000    0.000    0.000 /usr/local/lib/python2.7/dist-packages/IPython/core/hooks.py:122(__call__)\n",
        "        3    0.000    0.000    0.000    0.000 {isinstance}\n",
        "        2    0.000    0.000    0.000    0.000 /usr/local/lib/python2.7/dist-packages/IPython/utils/ipstruct.py:125(__getattr__)\n",
        "        1    0.000    0.000    0.000    0.000 {method 'disable' of '_lsprof.Profiler' objects}\n",
        "        2    0.000    0.000    0.000    0.000 /usr/local/lib/python2.7/dist-packages/IPython/core/interactiveshell.py:1008(user_global_ns)\n",
        "        1    0.000    0.000    0.000    0.000 {len}\n",
        "        2    0.000    0.000    0.000    0.000 /usr/local/lib/python2.7/dist-packages/IPython/core/hooks.py:202(pre_run_code_hook)\n",
        "\n",
        "\n",
        "\n"
       ]
      }
     ],
     "prompt_number": 463
    },
    {
     "cell_type": "markdown",
     "metadata": {},
     "source": [
      "The results, frankly, are almost meaningless to me. It looks like the time was split between the IPython core running the interactive shell and my trisolve. This is the first time I've used the profiler so there's likely an interpretation I don't know. I'll figure out what the profiler is telling me during the course so I can give a more intelligent breakdown of my code's efficiency later."
     ]
    },
    {
     "cell_type": "markdown",
     "metadata": {},
     "source": [
      "#### Testing performance against matrix divider"
     ]
    },
    {
     "cell_type": "markdown",
     "metadata": {},
     "source": [
      "First, constructing a tri-diagonal matrix to represent that which was passed to our tri-solver."
     ]
    },
    {
     "cell_type": "code",
     "collapsed": false,
     "input": [
      "def tridiag(a, b, c, k1=-1, k2=0, k3=1):\n",
      "    aprime = a[:-1]\n",
      "    cprime = c[:-1]\n",
      "    return np.diag(aprime, k1) + np.diag(b, k2) + np.diag(cprime, k3)\n",
      "\n",
      "a = ones(M)\n",
      "b = ones(M)*4.\n",
      "c = ones(M)\n",
      "\n",
      "A = tridiag(a, b, c) "
     ],
     "language": "python",
     "metadata": {},
     "outputs": [],
     "prompt_number": 464
    },
    {
     "cell_type": "markdown",
     "metadata": {},
     "source": [
      "Then, the only way I know of to do the matrix division in Python is to do an inverse of A and then dot it with the RHS array of f."
     ]
    },
    {
     "cell_type": "code",
     "collapsed": false,
     "input": [
      "pr = cProfile.Profile()\n",
      "pr.enable()\n",
      "\n",
      "\n",
      "x = dot(f, linalg.inv(A))\n",
      "\n",
      "\n",
      "pr.disable()\n",
      "s = StringIO.StringIO()\n",
      "sortby = 'cumulative'\n",
      "ps = pstats.Stats(pr, stream=s).sort_stats(sortby)\n",
      "ps.print_stats()"
     ],
     "language": "python",
     "metadata": {},
     "outputs": [
      {
       "metadata": {},
       "output_type": "pyout",
       "prompt_number": 467,
       "text": [
        "<pstats.Stats instance at 0x1333db48>"
       ]
      }
     ],
     "prompt_number": 467
    },
    {
     "cell_type": "markdown",
     "metadata": {},
     "source": [
      "I ran this first with the $M=10000$ that I'd originally used for the tri-solver -- it crashed my IPython kernel. So I dropped both to $M=1000$ and it gave a result."
     ]
    },
    {
     "cell_type": "code",
     "collapsed": false,
     "input": [
      "plot(x)\n",
      "print s.getvalue()"
     ],
     "language": "python",
     "metadata": {},
     "outputs": [
      {
       "output_type": "stream",
       "stream": "stdout",
       "text": [
        "         68 function calls in 0.628 seconds\n",
        "\n",
        "   Ordered by: cumulative time\n",
        "\n",
        "   ncalls  tottime  percall  cumtime  percall filename:lineno(function)\n",
        "        2    0.000    0.000    0.628    0.314 /usr/local/lib/python2.7/dist-packages/IPython/core/interactiveshell.py:2798(run_code)\n",
        "        1    0.002    0.002    0.628    0.628 <ipython-input-467-8b8e1a8c726c>:5(<module>)\n",
        "        1    0.000    0.000    0.620    0.620 /usr/lib/python2.7/dist-packages/numpy/linalg/linalg.py:404(inv)\n",
        "        1    0.000    0.000    0.618    0.618 /usr/lib/python2.7/dist-packages/numpy/linalg/linalg.py:244(solve)\n",
        "        1    0.587    0.587    0.587    0.587 {numpy.linalg.lapack_lite.dgesv}\n",
        "        1    0.000    0.000    0.023    0.023 /usr/lib/python2.7/dist-packages/numpy/linalg/linalg.py:139(_fastCopyAndTranspose)\n",
        "        2    0.023    0.011    0.023    0.011 {numpy.core.multiarray._fastCopyAndTranspose}\n",
        "        1    0.008    0.008    0.008    0.008 {method 'astype' of 'numpy.ndarray' objects}\n",
        "        1    0.006    0.006    0.006    0.006 {numpy.core._dotblas.dot}\n",
        "        1    0.000    0.000    0.002    0.002 /usr/lib/python2.7/dist-packages/numpy/core/numeric.py:1830(identity)\n",
        "        2    0.002    0.001    0.002    0.001 {numpy.core.multiarray.zeros}\n",
        "        2    0.000    0.000    0.000    0.000 /usr/lib/python2.7/codeop.py:132(__call__)\n",
        "        2    0.000    0.000    0.000    0.000 {compile}\n",
        "        3    0.000    0.000    0.000    0.000 /usr/lib/python2.7/dist-packages/numpy/linalg/linalg.py:66(_makearray)\n",
        "        1    0.000    0.000    0.000    0.000 /usr/lib/python2.7/dist-packages/numpy/linalg/linalg.py:99(_commonType)\n",
        "        3    0.000    0.000    0.000    0.000 /usr/lib/python2.7/dist-packages/numpy/core/numeric.py:167(asarray)\n",
        "        1    0.000    0.000    0.000    0.000 /usr/lib/python2.7/dist-packages/numpy/linalg/linalg.py:127(_to_native_byte_order)\n",
        "        3    0.000    0.000    0.000    0.000 {numpy.core.multiarray.array}\n",
        "        2    0.000    0.000    0.000    0.000 /usr/local/lib/python2.7/dist-packages/IPython/core/hooks.py:122(__call__)\n",
        "        1    0.000    0.000    0.000    0.000 /usr/lib/python2.7/dist-packages/numpy/linalg/linalg.py:157(_assertSquareness)\n",
        "        2    0.000    0.000    0.000    0.000 /usr/lib/python2.7/dist-packages/numpy/linalg/linalg.py:84(_realType)\n",
        "        2    0.000    0.000    0.000    0.000 /usr/local/lib/python2.7/dist-packages/IPython/core/interactiveshell.py:1008(user_global_ns)\n",
        "        3    0.000    0.000    0.000    0.000 /usr/lib/python2.7/dist-packages/numpy/linalg/linalg.py:71(isComplexType)\n",
        "        1    0.000    0.000    0.000    0.000 /usr/lib/python2.7/dist-packages/numpy/linalg/linalg.py:151(_assertRank2)\n",
        "        2    0.000    0.000    0.000    0.000 /usr/local/lib/python2.7/dist-packages/IPython/utils/ipstruct.py:125(__getattr__)\n",
        "        1    0.000    0.000    0.000    0.000 {method 'transpose' of 'numpy.ndarray' objects}\n",
        "        1    0.000    0.000    0.000    0.000 <ipython-input-467-8b8e1a8c726c>:8(<module>)\n",
        "        5    0.000    0.000    0.000    0.000 {issubclass}\n",
        "        3    0.000    0.000    0.000    0.000 {getattr}\n",
        "        2    0.000    0.000    0.000    0.000 /usr/local/lib/python2.7/dist-packages/IPython/core/hooks.py:202(pre_run_code_hook)\n",
        "        1    0.000    0.000    0.000    0.000 {max}\n",
        "        2    0.000    0.000    0.000    0.000 {method 'get' of 'dict' objects}\n",
        "        1    0.000    0.000    0.000    0.000 {min}\n",
        "        2    0.000    0.000    0.000    0.000 {method '__array_prepare__' of 'numpy.ndarray' objects}\n",
        "        2    0.000    0.000    0.000    0.000 {method 'append' of 'list' objects}\n",
        "        5    0.000    0.000    0.000    0.000 {len}\n",
        "        1    0.000    0.000    0.000    0.000 {method 'disable' of '_lsprof.Profiler' objects}\n",
        "\n",
        "\n",
        "\n"
       ]
      },
      {
       "metadata": {},
       "output_type": "display_data",
       "png": "[encoded data removed]",
       "text": [
        "<matplotlib.figure.Figure at 0x13744050>"
       ]
      }
     ],
     "prompt_number": 468
    },
    {
     "cell_type": "markdown",
     "metadata": {},
     "source": [
      "This took 0.628 s; which compares with the trisolve routine that consumed 0.01 s. The other comparison is that the trisolve routine took about 0.02 s (if I recall) for the $M=10000$ case. The direct matrix division couldn't give an answer at all."
     ]
    }
   ],
   "metadata": {}
  }
 ]
}