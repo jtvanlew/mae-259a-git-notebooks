{
 "metadata": {
  "name": ""
 },
 "nbformat": 3,
 "nbformat_minor": 0,
 "worksheets": [
  {
   "cells": [
    {
     "cell_type": "code",
     "collapsed": false,
     "input": [
      "from IPython.core.display import HTML\n",
      "def css_styling():\n",
      "    styles = open(\"styles/custom.css\", \"r\").read()\n",
      "    return HTML(styles)\n",
      "css_styling()"
     ],
     "language": "python",
     "metadata": {},
     "outputs": [
      {
       "html": [
        "\n",
        "\n",
        "\n",
        "\n",
        "<style>\n",
        "    @import url(http://fonts.googleapis.com/css?family=Crimson+Text);\n",
        "    @font-face {\n",
        "\n",
        "        font-family: \"Computer Modern\";\n",
        "        src: url('http://mirrors.ctan.org/fonts/cm-unicode/fonts/otf/cmunss.otf');\n",
        "    }\n",
        "    div.cell{\n",
        "        width:800px;\n",
        "        margin-left:16% !important;\n",
        "        margin-right:auto;\n",
        "    }\n",
        "    \n",
        "    div.text_cell_render{\n",
        "        font-family: \"Crimson Text\", \"Helvetica Neue\", Arial, Helvetica, Geneva, sans-serif;\n",
        "        line-height: 135%;\n",
        "        font-size: 150%;\n",
        "        width:600px;\n",
        "        margin-left:auto;\n",
        "        margin-right:auto;\n",
        "    }\n",
        "    .CodeMirror{\n",
        "            font-family: \"Source Code Pro\", source-code-pro,Consolas, monospace;\n",
        "            font-size: 110%;\n",
        "    }\n",
        "/*    .prompt{\n",
        "        display: None;\n",
        "    }*/\n",
        "    .text_cell_render h5 {\n",
        "        font-weight: 300;\n",
        "        font-size: 16pt;\n",
        "        color: #4057A1;\n",
        "        font-style: italic;\n",
        "        margin-bottom: .5em;\n",
        "        margin-top: 0.5em;\n",
        "        display: block;\n",
        "    }\n",
        "    \n",
        "    .warning{\n",
        "        color: rgb( 240, 20, 20 )\n",
        "        }  \n",
        "</style>\n",
        "<script>\n",
        "    MathJax.Hub.Config({\n",
        "                        TeX: {\n",
        "                           extensions: [\"AMSmath.js\"]\n",
        "                           },\n",
        "                tex2jax: {\n",
        "                    inlineMath: [ ['$','$'], [\"\\\\(\",\"\\\\)\"] ],\n",
        "                    displayMath: [ ['$$','$$'], [\"\\\\[\",\"\\\\]\"] ]\n",
        "                },\n",
        "                displayAlign: 'center', // Change this to 'center' to center equations.\n",
        "                \"HTML-CSS\": {\n",
        "                    styles: {'.MathJax_Display': {\"margin\": 4}},\n",
        "                }\n",
        "        });\n",
        "</script>"
       ],
       "metadata": {},
       "output_type": "pyout",
       "prompt_number": 1,
       "text": [
        "<IPython.core.display.HTML at 0x26bfa10>"
       ]
      }
     ],
     "prompt_number": 1
    },
    {
     "cell_type": "markdown",
     "metadata": {},
     "source": [
      "# Intro tutorial for doing mathematics and plotting in Python\n",
      "#### Jon Van Lew\n",
      "#### UCLA"
     ]
    },
    {
     "cell_type": "markdown",
     "metadata": {},
     "source": [
      "Professor Eldredge requested that people volunteer to make some tutorials for students who might want to use different programming languages in his course, MAE 259A - Numerical Methods for Incompressible Flow. So this is my attempt at helping anyone who might know some Python (or wants to try) but hasn't ever used any of the scientific/mathematic libraries to do engineering work."
     ]
    },
    {
     "cell_type": "markdown",
     "metadata": {},
     "source": [
      "## Importing the important libraries"
     ]
    },
    {
     "cell_type": "markdown",
     "metadata": {},
     "source": [
      "Python by itself can do a little bit of mathematics. But to do anything interesting and for visualization, we'll need to import some libraries. These are extremely useful:\n",
      "\n",
      "* `numpy` is a library that provides many (_many_) of the useful matrix operations found in MATLAB. Unlike something such as Octave, however, it's not trying to copy MATLAB syntax but giving functionality in Pythonesque syntax.\n",
      "\n",
      "\n",
      "* `matplotlib` is a 2D plotting library that we will use to plot our results\n",
      "\n",
      "\n",
      "* `scipy` is sort of a parent library to numpy and has other scientific computing commands available -- I'll import this later after some numpy and matplotlib examples.\n",
      "\n",
      "First we'll import numpy and matplotlib with standard Python import calls. With numpy and matplotlib we have almost all of functionality of MATLAB. Until you need specific libraries for specific purposes, you can survive with just these two. "
     ]
    },
    {
     "cell_type": "code",
     "collapsed": false,
     "input": [
      "import numpy as np                 #loading numpy, calling it with 'np'\n",
      "import matplotlib.pyplot as plt    #loading matplotlib, calling it 'plt'"
     ],
     "language": "python",
     "metadata": {},
     "outputs": [],
     "prompt_number": 2
    },
    {
     "cell_type": "markdown",
     "metadata": {},
     "source": [
      "### Simple math with numpy"
     ]
    },
    {
     "cell_type": "markdown",
     "metadata": {},
     "source": [
      "Numpy is pretty matlabesque for lots of things. For instance, we can quickly define some 'x' array on a linearly spaced grid. For that we call our numpy as np like we defined above"
     ]
    },
    {
     "cell_type": "code",
     "collapsed": false,
     "input": [
      "x = np.linspace(0,1,101)"
     ],
     "language": "python",
     "metadata": {},
     "outputs": [],
     "prompt_number": 4
    },
    {
     "cell_type": "markdown",
     "metadata": {},
     "source": [
      "So 'x' is defined just like in MATLAB, it has limits at 0 and 1 and there are 101 linearly spaced points between. If you want to check, do a simple print"
     ]
    },
    {
     "cell_type": "code",
     "collapsed": false,
     "input": [
      "print x"
     ],
     "language": "python",
     "metadata": {},
     "outputs": [
      {
       "output_type": "stream",
       "stream": "stdout",
       "text": [
        "[ 0.    0.01  0.02  0.03  0.04  0.05  0.06  0.07  0.08  0.09  0.1   0.11\n",
        "  0.12  0.13  0.14  0.15  0.16  0.17  0.18  0.19  0.2   0.21  0.22  0.23\n",
        "  0.24  0.25  0.26  0.27  0.28  0.29  0.3   0.31  0.32  0.33  0.34  0.35\n",
        "  0.36  0.37  0.38  0.39  0.4   0.41  0.42  0.43  0.44  0.45  0.46  0.47\n",
        "  0.48  0.49  0.5   0.51  0.52  0.53  0.54  0.55  0.56  0.57  0.58  0.59\n",
        "  0.6   0.61  0.62  0.63  0.64  0.65  0.66  0.67  0.68  0.69  0.7   0.71\n",
        "  0.72  0.73  0.74  0.75  0.76  0.77  0.78  0.79  0.8   0.81  0.82  0.83\n",
        "  0.84  0.85  0.86  0.87  0.88  0.89  0.9   0.91  0.92  0.93  0.94  0.95\n",
        "  0.96  0.97  0.98  0.99  1.  ]\n"
       ]
      }
     ],
     "prompt_number": 35
    },
    {
     "cell_type": "markdown",
     "metadata": {},
     "source": [
      "There are some built-in understanding of arrays with numpy, again much like MATLAB. There's a good website for referencing the commands if you can't keep them straight. It's called [NumPy for Matlab Users](http://wiki.scipy.org/NumPy_for_Matlab_Users). Most MATLAB commands exist with numpy equivalents."
     ]
    },
    {
     "cell_type": "markdown",
     "metadata": {},
     "source": [
      "So for instance if I want to do element-wise exponentials of 'x' I can simply do like so"
     ]
    },
    {
     "cell_type": "code",
     "collapsed": false,
     "input": [
      "y = x**2\n",
      "print y"
     ],
     "language": "python",
     "metadata": {},
     "outputs": [
      {
       "output_type": "stream",
       "stream": "stdout",
       "text": [
        "[  0.00000000e+00   1.00000000e-04   4.00000000e-04   9.00000000e-04\n",
        "   1.60000000e-03   2.50000000e-03   3.60000000e-03   4.90000000e-03\n",
        "   6.40000000e-03   8.10000000e-03   1.00000000e-02   1.21000000e-02\n",
        "   1.44000000e-02   1.69000000e-02   1.96000000e-02   2.25000000e-02\n",
        "   2.56000000e-02   2.89000000e-02   3.24000000e-02   3.61000000e-02\n",
        "   4.00000000e-02   4.41000000e-02   4.84000000e-02   5.29000000e-02\n",
        "   5.76000000e-02   6.25000000e-02   6.76000000e-02   7.29000000e-02\n",
        "   7.84000000e-02   8.41000000e-02   9.00000000e-02   9.61000000e-02\n",
        "   1.02400000e-01   1.08900000e-01   1.15600000e-01   1.22500000e-01\n",
        "   1.29600000e-01   1.36900000e-01   1.44400000e-01   1.52100000e-01\n",
        "   1.60000000e-01   1.68100000e-01   1.76400000e-01   1.84900000e-01\n",
        "   1.93600000e-01   2.02500000e-01   2.11600000e-01   2.20900000e-01\n",
        "   2.30400000e-01   2.40100000e-01   2.50000000e-01   2.60100000e-01\n",
        "   2.70400000e-01   2.80900000e-01   2.91600000e-01   3.02500000e-01\n",
        "   3.13600000e-01   3.24900000e-01   3.36400000e-01   3.48100000e-01\n",
        "   3.60000000e-01   3.72100000e-01   3.84400000e-01   3.96900000e-01\n",
        "   4.09600000e-01   4.22500000e-01   4.35600000e-01   4.48900000e-01\n",
        "   4.62400000e-01   4.76100000e-01   4.90000000e-01   5.04100000e-01\n",
        "   5.18400000e-01   5.32900000e-01   5.47600000e-01   5.62500000e-01\n",
        "   5.77600000e-01   5.92900000e-01   6.08400000e-01   6.24100000e-01\n",
        "   6.40000000e-01   6.56100000e-01   6.72400000e-01   6.88900000e-01\n",
        "   7.05600000e-01   7.22500000e-01   7.39600000e-01   7.56900000e-01\n",
        "   7.74400000e-01   7.92100000e-01   8.10000000e-01   8.28100000e-01\n",
        "   8.46400000e-01   8.64900000e-01   8.83600000e-01   9.02500000e-01\n",
        "   9.21600000e-01   9.40900000e-01   9.60400000e-01   9.80100000e-01\n",
        "   1.00000000e+00]\n"
       ]
      }
     ],
     "prompt_number": 6
    },
    {
     "cell_type": "markdown",
     "metadata": {},
     "source": [
      "and clearly each value of the array was squared. There are plenty of other matrix operations that are either matrix-wise or element-wise, they are explained pretty well in that link above."
     ]
    },
    {
     "cell_type": "markdown",
     "metadata": {},
     "source": [
      "### Simple plotting with matplotlib"
     ]
    },
    {
     "cell_type": "markdown",
     "metadata": {},
     "source": [
      "Now that we have an x and y, we can work with plotting. With matplotlib imported as plt, its as simple as this:"
     ]
    },
    {
     "cell_type": "code",
     "collapsed": false,
     "input": [
      "plt.plot(x,y)\n",
      "plt.show()"
     ],
     "language": "python",
     "metadata": {},
     "outputs": [
      {
       "metadata": {},
       "output_type": "display_data",
       "png": "[encoded data removed]",
       "text": [
        "<matplotlib.figure.Figure at 0x49c8250>"
       ]
      }
     ],
     "prompt_number": 37
    },
    {
     "cell_type": "markdown",
     "metadata": {},
     "source": [
      "Note: depending on how you run Python, you may not have to give that plt.show() command. Generally, you do."
     ]
    },
    {
     "cell_type": "markdown",
     "metadata": {},
     "source": [
      "Now we can't just have a plot without any labels; Prof. Eldredge would kill us. So let's give it a legend, xlabel, ylabel and title."
     ]
    },
    {
     "cell_type": "code",
     "collapsed": false,
     "input": [
      "plt.plot(x,y)\n",
      "plt.plot(x,x**5)\n",
      "plt.xlabel(r'Non-dimensional time $\\theta$')\n",
      "plt.ylabel(\\\n",
      "  \"Non-dimensional likelihood I'll \\n say something inappropriate in class\")\n",
      "plt.legend(['Winter Quarter','Spring Quarter'],2)\n",
      "plt.title(\"Example plot in Python with matplotlib\")\n",
      "plt.show()"
     ],
     "language": "python",
     "metadata": {},
     "outputs": [
      {
       "metadata": {},
       "output_type": "display_data",
       "png": "[encoded data removed]",
       "text": [
        "<matplotlib.figure.Figure at 0x2e6ce90>"
       ]
      }
     ],
     "prompt_number": 18
    },
    {
     "cell_type": "markdown",
     "metadata": {},
     "source": [
      "I jammed a lot of features in that plot so you can reference them if you run into them when plotting for class. Like:\n",
      "\n",
      "* if you happen to have a title\\label with an apostrophe (\"I'll\" in this example), matplotlib is just like Python strings -- you can wrap a single apostrophe in doubles, etc. \n",
      "\n",
      "\n",
      "* You can use $\\LaTeX$ code in labels to get some simple greek symbols. You can test the limits of what syntax is understandable in the strings. You just need the 'r' before the string command as in my xlabel.\n",
      "\n",
      "\n",
      "* you can use the Python command of \"\\n\" to break a line in long text.\n",
      "\n",
      "\n",
      "* legend strings are bracketed in the first spot of the legend call. Then there are a lot of other arguments that can be tacked on -- such as '2' to specify the location of the legend."
     ]
    },
    {
     "cell_type": "markdown",
     "metadata": {},
     "source": [
      "matplotlib has many many features to give really complex plots. The librarie's website has some examples with tutorials where they plot in more sophisticated styles. Sometimes the sophistication is confusing when you just want a simple plot like what I did here -- so this example should give you some peace of mind that many plots can be generated with intuitive commands that are similar to matlab."
     ]
    },
    {
     "cell_type": "markdown",
     "metadata": {},
     "source": [
      "## Using the scipy library"
     ]
    },
    {
     "cell_type": "markdown",
     "metadata": {},
     "source": [
      "One useful thing with Matlab is its built-in solvers like ode45 and the like. With numpy and scipy you can generally also get by with built-in solvers. For example, if we want to solve a system of equations like:\n",
      "\n",
      "$$\\begin{align}\n",
      "x^2+y^2 &= 4 \\\\\n",
      "e^x + xy &= 3\n",
      "\\end{align}$$\n",
      "\n",
      "we solve this with a standard root solver, fsolve, that comes with the scipy library. The solver finds roots so we just rearrange the above as:\n",
      "\n",
      "$$\\begin{align}\n",
      "x^2+y^2 -4 &= 0 \\\\\n",
      "e^x + xy -3 &= 0\n",
      "\\end{align}$$"
     ]
    },
    {
     "cell_type": "markdown",
     "metadata": {},
     "source": [
      "Now import the fsolve from scipy similar to other library imports (I'm going to import from scipy.optimize just because I know fsolve is coming directly from that)"
     ]
    },
    {
     "cell_type": "code",
     "collapsed": false,
     "input": [
      "from scipy.optimize import fsolve"
     ],
     "language": "python",
     "metadata": {},
     "outputs": [],
     "prompt_number": 12
    },
    {
     "cell_type": "markdown",
     "metadata": {},
     "source": [
      "I'm going to define an 'equations' function that will be used with fsolve. Defining equations with Python is also very similar to MATLAB (but beware your whitespace!)."
     ]
    },
    {
     "cell_type": "code",
     "collapsed": false,
     "input": [
      "def equations(p):\n",
      "    x, y = p\n",
      "    return (x**2+y**2-4, np.exp(x) + x*y - 3)"
     ],
     "language": "python",
     "metadata": {},
     "outputs": [],
     "prompt_number": 13
    },
    {
     "cell_type": "markdown",
     "metadata": {},
     "source": [
      "so my function 'equations' will take in an array, p, and assign the first element to x and the second to y. Then it returns the value of our two equations with x and y plugged in. For instance, let's call this function with initial conditions of \n",
      "\n",
      "$$\\begin{align}\n",
      "x = 1\\\\\n",
      "y = 1\n",
      "\\end{align}$$"
     ]
    },
    {
     "cell_type": "code",
     "collapsed": false,
     "input": [
      "IC = [1,1]\n",
      "equations(IC)"
     ],
     "language": "python",
     "metadata": {},
     "outputs": [
      {
       "metadata": {},
       "output_type": "pyout",
       "prompt_number": 14,
       "text": [
        "(-2, 0.71828182845904509)"
       ]
      }
     ],
     "prompt_number": 14
    },
    {
     "cell_type": "markdown",
     "metadata": {},
     "source": [
      "If you look at the way I wrote the 'return' line of equations, you'll see that these two values would both equal 0 if x = 1 and y = 1 were solutions to the system of equations -- clearly they're not. So, let's use fsolve and iterate to find some solutions with that IC as a guess."
     ]
    },
    {
     "cell_type": "code",
     "collapsed": false,
     "input": [
      "s =  fsolve(equations, IC)\n",
      "\n",
      "print round(s[0],3)\n",
      "print round(s[1],3)"
     ],
     "language": "python",
     "metadata": {},
     "outputs": [
      {
       "output_type": "stream",
       "stream": "stdout",
       "text": [
        "0.609\n",
        "1.905\n"
       ]
      }
     ],
     "prompt_number": 15
    },
    {
     "cell_type": "markdown",
     "metadata": {},
     "source": [
      "so it says that _a_ solution to the system of equations is \n",
      "\n",
      "$$\\begin{align}\n",
      "x & = 0.609\\\\\n",
      "y & = 1.905\n",
      "\\end{align}$$\n",
      "\n",
      "and I say _a_ solution because I have no idea how those two equations act but in some cases there are likely many solutions but you only get the closest one to your initial conditions. You have to be careful with fsolve just like in MATLAB in that you don't know if the solution you've got is the solution you want.\n",
      "\n",
      "Let's plug these back in just as a double-check"
     ]
    },
    {
     "cell_type": "code",
     "collapsed": false,
     "input": [
      "equations(s)"
     ],
     "language": "python",
     "metadata": {},
     "outputs": [
      {
       "metadata": {},
       "output_type": "pyout",
       "prompt_number": 17,
       "text": [
        "(-6.9455552420549793e-13, 2.2204460492503131e-13)"
       ]
      }
     ],
     "prompt_number": 17
    },
    {
     "cell_type": "markdown",
     "metadata": {},
     "source": [
      "That's preeeetty close to 0. Close enough that fsolve considered it 0 so I'm ok with it too."
     ]
    },
    {
     "cell_type": "markdown",
     "metadata": {},
     "source": [
      "## Conclusion"
     ]
    },
    {
     "cell_type": "markdown",
     "metadata": {},
     "source": [
      "You can accomplish almost anything with Python's numpy, scipy, and matplotlib libraries that you'd want to do with MATLAB. This tutorial is meant to be a little starter kit where you see how easy it is to do some mathematics with Python. If you get more complicated scenarios, the first place to check for help is Google. Google will often point you to Stack Overflow where people have brilliant answers to many different programming problems. If you have a specific (simple) question that you think I can help with, email me at jtvanlew@fusion.ucla.edu"
     ]
    }
   ],
   "metadata": {}
  }
 ]
}